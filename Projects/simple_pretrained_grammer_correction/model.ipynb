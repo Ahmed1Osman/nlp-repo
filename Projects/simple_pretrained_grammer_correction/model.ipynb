{
  "cells": [
    {
      "cell_type": "code",
      "source": [
        "import json\n",
        "from transformers import BartTokenizer, BartForConditionalGeneration, Trainer, TrainingArguments, EarlyStoppingCallback\n",
        "import torch\n",
        "from sklearn.model_selection import train_test_split\n",
        "\n",
        "# Load the dataset\n",
        "with open('grammar_correction_data.json', 'r') as f:\n",
        "    data = json.load(f)\n",
        "\n",
        "# Initialize the tokenizer\n",
        "tokenizer = BartTokenizer.from_pretrained('facebook/bart-large')\n",
        "\n",
        "# Tokenize the data\n",
        "def tokenize_data(data):\n",
        "    inputs = tokenizer([item['incorrect'] for item in data], padding=True, truncation=True, return_tensors='pt')\n",
        "    labels = tokenizer([item['corrected'] for item in data], padding=True, truncation=True, return_tensors='pt')\n",
        "    return inputs, labels\n",
        "\n",
        "inputs, labels = tokenize_data(data)"
      ],
      "metadata": {
        "id": "iwBMVIMCW5WY"
      },
      "execution_count": null,
      "outputs": []
    },
    {
      "cell_type": "code",
      "source": [
        "\n",
        "# Create a dataset class\n",
        "class GrammarCorrectionDataset(torch.utils.data.Dataset):\n",
        "    def __init__(self, inputs, labels):\n",
        "        self.inputs = inputs\n",
        "        self.labels = labels\n",
        "\n",
        "    def __len__(self):\n",
        "        return len(self.inputs['input_ids'])\n",
        "\n",
        "    def __getitem__(self, idx):\n",
        "        return {\n",
        "            'input_ids': self.inputs['input_ids'][idx],\n",
        "            'attention_mask': self.inputs['attention_mask'][idx],\n",
        "            'labels': self.labels['input_ids'][idx]\n",
        "        }\n",
        "\n",
        "# Split data into train and validation sets\n",
        "train_inputs, val_inputs, train_labels, val_labels = train_test_split(inputs, labels, test_size=0.1)\n",
        "\n",
        "# Create datasets\n",
        "train_dataset = GrammarCorrectionDataset(train_inputs, train_labels)\n",
        "val_dataset = GrammarCorrectionDataset(val_inputs, val_labels)\n",
        "\n",
        "# Define training arguments\n",
        "training_args = TrainingArguments(\n",
        "    output_dir='./results',\n",
        "    per_device_train_batch_size=2,\n",
        "    per_device_eval_batch_size=2,\n",
        "    num_train_epochs=10,\n",
        "    logging_dir='./logs',\n",
        "    evaluation_strategy='epoch',\n",
        "    save_strategy='epoch',\n",
        "    load_best_model_at_end=True,\n",
        "    weight_decay=0.01,\n",
        "    logging_steps=10,\n",
        "    save_total_limit=3,\n",
        "    gradient_clipping=1.0\n",
        ")\n",
        "\n",
        "# Initialize Trainer with EarlyStoppingCallback\n",
        "trainer = Trainer(\n",
        "    model=BartForConditionalGeneration.from_pretrained('facebook/bart-large'),\n",
        "    args=training_args,\n",
        "    train_dataset=train_dataset,\n",
        "    eval_dataset=val_dataset,\n",
        "    callbacks=[EarlyStoppingCallback(early_stopping_patience=2)]  # Early stopping patience\n",
        ")\n",
        "\n",
        "# Train the model\n",
        "trainer.train()\n",
        "\n",
        "# Save the trained model and tokenizer\n",
        "model_path = \"./grammar_correction_model1\"\n",
        "trainer.save_model(model_path)\n",
        "tokenizer.save_pretrained(model_path)"
      ],
      "metadata": {
        "colab": {
          "base_uri": "https://localhost:8080/",
          "height": 376
        },
        "id": "lJGqeVcSW_ZI",
        "outputId": "e763d582-bf72-4489-f7a4-1fb19dde6795"
      },
      "execution_count": 3,
      "outputs": [
        {
          "data": {
            "text/html": [
              "\n",
              "    <div>\n",
              "      \n",
              "      <progress value='139' max='970' style='width:300px; height:20px; vertical-align: middle;'></progress>\n",
              "      [139/970 22:52 < 2:18:44, 0.10 it/s, Epoch 1.42/10]\n",
              "    </div>\n",
              "    <table border=\"1\" class=\"dataframe\">\n",
              "  <thead>\n",
              " <tr style=\"text-align: left;\">\n",
              "      <th>Step</th>\n",
              "      <th>Training Loss</th>\n",
              "    </tr>\n",
              "  </thead>\n",
              "  <tbody>\n",
              "  </tbody>\n",
              "</table><p>"
            ],
            "text/plain": [
              "<IPython.core.display.HTML object>"
            ]
          },
          "metadata": {},
          "output_type": "display_data"
        },
        {
          "output_type": "display_data",
          "data": {
            "text/plain": [
              "<IPython.core.display.HTML object>"
            ],
            "text/html": [
              "\n",
              "    <div>\n",
              "      \n",
              "      <progress value='970' max='970' style='width:300px; height:20px; vertical-align: middle;'></progress>\n",
              "      [970/970 2:39:12, Epoch 10/10]\n",
              "    </div>\n",
              "    <table border=\"1\" class=\"dataframe\">\n",
              "  <thead>\n",
              " <tr style=\"text-align: left;\">\n",
              "      <th>Step</th>\n",
              "      <th>Training Loss</th>\n",
              "    </tr>\n",
              "  </thead>\n",
              "  <tbody>\n",
              "    <tr>\n",
              "      <td>500</td>\n",
              "      <td>0.674800</td>\n",
              "    </tr>\n",
              "  </tbody>\n",
              "</table><p>"
            ]
          },
          "metadata": {}
        },
        {
          "output_type": "stream",
          "name": "stderr",
          "text": [
            "Some non-default generation parameters are set in the model config. These should go into a GenerationConfig file (https://huggingface.co/docs/transformers/generation_strategies#save-a-custom-decoding-strategy-with-your-model) instead. This warning will be raised to an exception in v4.41.\n",
            "Non-default generation parameters: {'early_stopping': True, 'num_beams': 4, 'no_repeat_ngram_size': 3, 'forced_bos_token_id': 0, 'forced_eos_token_id': 2}\n",
            "Some non-default generation parameters are set in the model config. These should go into a GenerationConfig file (https://huggingface.co/docs/transformers/generation_strategies#save-a-custom-decoding-strategy-with-your-model) instead. This warning will be raised to an exception in v4.41.\n",
            "Non-default generation parameters: {'early_stopping': True, 'num_beams': 4, 'no_repeat_ngram_size': 3, 'forced_bos_token_id': 0, 'forced_eos_token_id': 2}\n",
            "Some non-default generation parameters are set in the model config. These should go into a GenerationConfig file (https://huggingface.co/docs/transformers/generation_strategies#save-a-custom-decoding-strategy-with-your-model) instead. This warning will be raised to an exception in v4.41.\n",
            "Non-default generation parameters: {'early_stopping': True, 'num_beams': 4, 'no_repeat_ngram_size': 3, 'forced_bos_token_id': 0, 'forced_eos_token_id': 2}\n"
          ]
        },
        {
          "output_type": "execute_result",
          "data": {
            "text/plain": [
              "('./grammar_correction_model/tokenizer_config.json',\n",
              " './grammar_correction_model/special_tokens_map.json',\n",
              " './grammar_correction_model/vocab.json',\n",
              " './grammar_correction_model/merges.txt',\n",
              " './grammar_correction_model/added_tokens.json')"
            ]
          },
          "metadata": {},
          "execution_count": 3
        }
      ]
    },
    {
      "cell_type": "code",
      "source": [
        "# Define a function to generate corrected sentences\n",
        "def generate_correction(model, tokenizer, sentence):\n",
        "    inputs = tokenizer(sentence, return_tensors='pt')\n",
        "    output = model.generate(**inputs)\n",
        "    corrected_sentence = tokenizer.decode(output[0], skip_special_tokens=True)\n",
        "    return corrected_sentence\n",
        "\n",
        "# Test the model\n",
        "test_sentence = \"he were very much happyier \"\n",
        "print(f\"Original: {test_sentence}\")\n",
        "print(f\"Corrected: {generate_correction(model, tokenizer, test_sentence)}\")\n"
      ],
      "metadata": {
        "colab": {
          "base_uri": "https://localhost:8080/"
        },
        "id": "ZphzUttXXzUL",
        "outputId": "98097976-dc72-47f2-acd4-ede3a02485ce"
      },
      "execution_count": 16,
      "outputs": [
        {
          "output_type": "stream",
          "name": "stdout",
          "text": [
            "Original: he were very much happyier \n",
            "Corrected: he was very much happy.\n"
          ]
        }
      ]
    }
  ],
  "metadata": {
    "colab": {
      "provenance": []
    },
    "kernelspec": {
      "display_name": "Python 3",
      "name": "python3"
    },
    "language_info": {
      "name": "python"
    }
  },
  "nbformat": 4,
  "nbformat_minor": 0
}